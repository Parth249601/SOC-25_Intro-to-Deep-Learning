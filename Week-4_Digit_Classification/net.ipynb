{
 "cells": [
  {
   "cell_type": "code",
   "execution_count": 96,
   "id": "37d32140",
   "metadata": {},
   "outputs": [],
   "source": [
    "import struct\n",
    "import numpy as np\n",
    "import matplotlib.pyplot as plt\n",
    "import copy\n",
    "def load_images(filename):\n",
    "    with open(filename, 'rb') as f:\n",
    "        magic, num_images, rows, cols = struct.unpack('>IIII', f.read(16))\n",
    "        image_data = np.frombuffer(f.read(), dtype=np.uint8)\n",
    "        return image_data.reshape((num_images, rows, cols))\n",
    "\n",
    "def load_labels(filename):\n",
    "    with open(filename, 'rb') as f:\n",
    "        magic, num_labels = struct.unpack('>II', f.read(8))\n",
    "        label_data = np.frombuffer(f.read(), dtype=np.uint8)\n",
    "        return label_data\n"
   ]
  },
  {
   "cell_type": "code",
   "execution_count": 97,
   "id": "196b7983",
   "metadata": {},
   "outputs": [],
   "source": [
    "train_images = load_images('data/train-images.idx3-ubyte')\n",
    "train_labels = load_labels('data/train-labels.idx1-ubyte')\n",
    "\n",
    "test_images = load_images('data/t10k-images.idx3-ubyte')\n",
    "test_labels = load_labels('data/t10k-labels.idx1-ubyte')\n"
   ]
  },
  {
   "cell_type": "code",
   "execution_count": 113,
   "id": "1e836950",
   "metadata": {},
   "outputs": [
    {
     "data": {
      "image/png": "[encoded data removed]",
      "text/plain": [
       "<Figure size 640x480 with 1 Axes>"
      ]
     },
     "metadata": {},
     "output_type": "display_data"
    }
   ],
   "source": [
    "def show_image(img, label):\n",
    "    plt.imshow(img, cmap='gray')\n",
    "    plt.title(f\"Label: {label}\")\n",
    "    plt.axis('off')\n",
    "    plt.show()\n",
    "\n",
    "# Example: show the 5th training image\n",
    "show_image(train_images[8], train_labels[8])"
   ]
  },
  {
   "cell_type": "code",
   "execution_count": 99,
   "id": "20aa428d",
   "metadata": {},
   "outputs": [
    {
     "name": "stdout",
     "output_type": "stream",
     "text": [
      "(60000, 28, 28)\n",
      "(60000,)\n",
      "(10000, 28, 28)\n",
      "(10000,)\n"
     ]
    }
   ],
   "source": [
    "print(train_images.shape)\n",
    "print(train_labels.shape)\n",
    "\n",
    "print(test_images.shape)\n",
    "print(test_labels.shape)"
   ]
  },
  {
   "cell_type": "code",
   "execution_count": 100,
   "id": "9a5c7409",
   "metadata": {},
   "outputs": [],
   "source": [
    "def ReLU(z):\n",
    "    return np.maximum(0,z)"
   ]
  },
  {
   "cell_type": "code",
   "execution_count": 101,
   "id": "27aa5e91",
   "metadata": {},
   "outputs": [],
   "source": [
    "def ReLU_derivative(z):\n",
    "    return (z > 0).astype(np.float32)\n",
    "\n"
   ]
  },
  {
   "cell_type": "code",
   "execution_count": 102,
   "id": "1bc5b270",
   "metadata": {},
   "outputs": [],
   "source": [
    "def softmax(Z):\n",
    "    \"\"\"\n",
    "    Z: np.ndarray of shape (num_classes, m)\n",
    "    Returns: softmax probabilities of same shape\n",
    "    \"\"\"\n",
    "    Z_shifted = Z - np.max(Z, axis=0, keepdims=True)  # for numerical stability\n",
    "    exp_Z = np.exp(Z_shifted)\n",
    "    softmax_output = exp_Z / np.sum(exp_Z, axis=0, keepdims=True)\n",
    "    return softmax_output"
   ]
  },
  {
   "cell_type": "code",
   "execution_count": 103,
   "id": "2ac6a178",
   "metadata": {},
   "outputs": [],
   "source": [
    "def one_hot_encode(y_labels, num_classes=10):\n",
    "    m = y_labels.shape[0]\n",
    "    one_hot = np.zeros((num_classes, m))\n",
    "    one_hot[y_labels, np.arange(m)] = 1\n",
    "    return one_hot\n"
   ]
  },
  {
   "cell_type": "code",
   "execution_count": 104,
   "id": "b67f120d",
   "metadata": {},
   "outputs": [],
   "source": [
    "def initialize_paras(n_x, nh1, nh2, outL):\n",
    "    W1 = np.random.randn(128, 784) * np.sqrt(2. / 784)\n",
    "    W2 = np.random.randn(64, 128) * np.sqrt(2. / 128)\n",
    "    W3 = np.random.randn(10, 64) * np.sqrt(2. / 64)\n",
    "    b1 = np.random.rand(nh1, 1)\n",
    "    b2 = np.random.rand(nh2,1)\n",
    "    b3 = np.random.rand(outL,1)\n",
    "\n",
    "    parameters = {\n",
    "        \"W1\": W1,\n",
    "        \"b1\": b1,\n",
    "        \"W2\": W2,\n",
    "        \"b2\": b2,\n",
    "        \"W3\": W3,\n",
    "        \"b3\": b3\n",
    "    }\n",
    "    return parameters\n"
   ]
  },
  {
   "cell_type": "code",
   "execution_count": 105,
   "id": "48c56562",
   "metadata": {},
   "outputs": [],
   "source": [
    "def forward_prop(X, parameters):\n",
    "\n",
    "    W1 = parameters[\"W1\"]\n",
    "    b1 = parameters[\"b1\"]\n",
    "\n",
    "    W2 = parameters[\"W2\"]\n",
    "    b2 = parameters[\"b2\"]\n",
    "\n",
    "    W3 = parameters[\"W3\"]\n",
    "    b3 = parameters[\"b3\"]\n",
    "\n",
    "    Z1 = W1 @ X + b1\n",
    "    A1 = ReLU(Z1)\n",
    "\n",
    "    Z2 = W2 @ A1 + b2\n",
    "    A2 = ReLU(Z2)\n",
    "\n",
    "    Z3 =  W3 @ A2 + b3\n",
    "    A3 = softmax(Z3)\n",
    "\n",
    "    cache = {\n",
    "        \"Z1\": Z1,\n",
    "        \"A1\": A1,\n",
    "        \"Z2\": Z2,\n",
    "        \"A2\": A2,\n",
    "        \"Z3\": Z3,\n",
    "        \"A3\": A3\n",
    "    }\n",
    "\n",
    "    return A3, cache\n",
    "\n"
   ]
  },
  {
   "cell_type": "code",
   "execution_count": 106,
   "id": "5be1bbae",
   "metadata": {},
   "outputs": [],
   "source": [
    "def cost_function(A3, Y):\n",
    "    epsilon = 1e-15\n",
    "    A3_clipped = np.clip(A3, epsilon, 1 - epsilon)\n",
    "    #Y is one hot encoded\n",
    "    loss = -np.mean(np.sum(Y * np.log(A3_clipped), axis=0))\n",
    "    return loss\n",
    "\n"
   ]
  },
  {
   "cell_type": "code",
   "execution_count": 107,
   "id": "b4cfdae2",
   "metadata": {},
   "outputs": [],
   "source": [
    "def backward_prop(parameters, cache, X, Y):\n",
    "    m = X.shape[1]\n",
    "    W1 = parameters[\"W1\"]\n",
    "    b1 = parameters[\"b1\"]\n",
    "\n",
    "    W2 = parameters[\"W2\"]\n",
    "    b2 = parameters[\"b2\"]\n",
    "\n",
    "    W3 = parameters[\"W3\"]\n",
    "    b3 = parameters[\"b3\"]\n",
    "\n",
    "    Z1 = cache[\"Z1\"]\n",
    "    Z2 = cache[\"Z2\"]\n",
    "    Z3 = cache[\"Z3\"]\n",
    "\n",
    "    A1 = cache[\"A1\"]\n",
    "    A2 = cache[\"A2\"]\n",
    "    A3 = cache[\"A3\"]\n",
    "\n",
    "\n",
    "    dZ3 = A3 - Y\n",
    "    dW3 = (1/m) * (dZ3 @ A2.T)\n",
    "    db3 = (1/m) * np.sum(dZ3, axis=1, keepdims=True)\n",
    "\n",
    "    dA2 = W3.T @ dZ3\n",
    "    dZ2 = dA2 * ReLU_derivative(Z2)\n",
    "    dW2 = (1/m) * (dZ2 @ A1.T)\n",
    "    db2 = (1/m) * np.sum(dZ2, axis=1, keepdims=True)\n",
    "\n",
    "    dA1 = W2.T @ dZ2\n",
    "    dZ1 = dA1 * ReLU_derivative(Z1)\n",
    "    dW1 = (1/m) * (dZ1 @ X.T)\n",
    "    db1 = (1/m) * np.sum(dZ1, axis=1, keepdims=True)\n",
    "\n",
    "    grads = {\n",
    "        \"dW1\": dW1,\n",
    "        \"db1\": db1,\n",
    "        \"dW2\": dW2,\n",
    "        \"db2\": db2,\n",
    "        \"dW3\": dW3,\n",
    "        \"db3\": db3\n",
    "    }\n",
    "\n",
    "    return grads\n"
   ]
  },
  {
   "cell_type": "code",
   "execution_count": 108,
   "id": "5dbe727d",
   "metadata": {},
   "outputs": [],
   "source": [
    "def update_parameters(parameters, grads, learning_rate= 0.1):\n",
    "    deep_parameter = copy.deepcopy(parameters)\n",
    "\n",
    "    W1 = deep_parameter[\"W1\"]\n",
    "    b1 = deep_parameter[\"b1\"]\n",
    "    W2 = deep_parameter[\"W2\"]\n",
    "    b2 = deep_parameter[\"b2\"]\n",
    "    W3 = deep_parameter[\"W3\"]\n",
    "    b3 = deep_parameter[\"b3\"]\n",
    "\n",
    "    dW1 = grads[\"dW1\"]\n",
    "    db1 = grads[\"db1\"]\n",
    "    dW2 = grads[\"dW2\"]\n",
    "    db2 = grads[\"db2\"]\n",
    "    dW3 = grads[\"dW3\"]\n",
    "    db3 = grads[\"db3\"]\n",
    "\n",
    "    W1 -= learning_rate*dW1\n",
    "    b1 -= learning_rate*db1\n",
    "    W2 -= learning_rate*dW2\n",
    "    b2 -= learning_rate*db2\n",
    "    W3 -= learning_rate*dW3\n",
    "    b3 -= learning_rate*db3\n",
    "\n",
    "    parameters = {\"W1\": W1,\n",
    "                  \"b1\": b1,\n",
    "                  \"W2\": W2,\n",
    "                  \"b2\": b2,\n",
    "                  \"W3\": W3,\n",
    "                  \"b3\": b3}\n",
    "    \n",
    "    return parameters\n",
    "\n"
   ]
  },
  {
   "cell_type": "code",
   "execution_count": 109,
   "id": "0303ddc1",
   "metadata": {},
   "outputs": [],
   "source": [
    "\n",
    "def nn_model(X, Y, num_iterations = 10000, print_cost=False):\n",
    "    parameters = initialize_paras(784, 128, 64, 10)\n",
    "    for i in range(0, num_iterations):\n",
    "        A3, cache = forward_prop(X, parameters)\n",
    "        cost = cost_function(A3, Y)\n",
    "        grads = backward_prop(parameters, cache, X, Y)\n",
    "        parameters = update_parameters(parameters, grads, learning_rate= 1.0)\n",
    "        if print_cost and i % 1000 == 0:\n",
    "            print (\"Cost after iteration %i: %f\" %(i, cost))\n",
    "\n",
    "    return parameters\n",
    "    "
   ]
  },
  {
   "cell_type": "code",
   "execution_count": 110,
   "id": "0bbf8856",
   "metadata": {},
   "outputs": [],
   "source": [
    "def predict(parameters, X):\n",
    "    A3, cache = forward_prop(X,parameters)\n",
    "    predictions = np.argmax(A3, axis= 0)\n",
    "    return predictions"
   ]
  },
  {
   "cell_type": "code",
   "execution_count": 111,
   "id": "2f323357",
   "metadata": {},
   "outputs": [],
   "source": [
    "X = train_images.reshape(train_images.shape[0], -1).T\n",
    "X = X.astype(np.float32) / 255.0\n",
    "\n",
    "Y = one_hot_encode(train_labels)\n",
    "\n",
    "model = nn_model(X,Y,10)"
   ]
  },
  {
   "cell_type": "code",
   "execution_count": 112,
   "id": "3c57350a",
   "metadata": {},
   "outputs": [
    {
     "name": "stdout",
     "output_type": "stream",
     "text": [
      "Test accuracy: 10.09 %\n"
     ]
    }
   ],
   "source": [
    "X_test = test_images.reshape(-1, 28*28).T.astype(np.float32) / 255.0\n",
    "Y_test = one_hot_encode(test_labels)\n",
    "\n",
    "preds = predict(model,X_test)\n",
    "print(\"Test accuracy:\", np.mean(preds == test_labels) * 100, \"%\")"
   ]
  },
  {
   "cell_type": "code",
   "execution_count": null,
   "id": "ec7c856c",
   "metadata": {},
   "outputs": [],
   "source": []
  }
 ],
 "metadata": {
  "kernelspec": {
   "display_name": "Python 3",
   "language": "python",
   "name": "python3"
  },
  "language_info": {
   "codemirror_mode": {
    "name": "ipython",
    "version": 3
   },
   "file_extension": ".py",
   "mimetype": "text/x-python",
   "name": "python",
   "nbconvert_exporter": "python",
   "pygments_lexer": "ipython3",
   "version": "3.10.11"
  }
 },
 "nbformat": 4,
 "nbformat_minor": 5
}
